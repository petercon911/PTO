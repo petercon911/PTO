{
 "cells": [
  {
   "cell_type": "code",
   "execution_count": null,
   "metadata": {},
   "outputs": [],
   "source": [
    "Experiment Surrounding multiple Generators and Solvers in the PTO system in relation to solving the travelling tournament.\n",
    "I hope to show differences in speed and accuracy over time between different combinations.\n",
    "Also to possibly show a difference in hard rules and soft rules in relation to the generator and cost function.\n",
    "To start then I want to show the difference in the generators which will be hereby denoted as start1 and start2.\n",
    "Both generators operate on a random cell search of open cells in the matrix and then seek to find a solution to the cell.\n",
    "What we ae looking for is a full matrix of numbers in the range -teams to +teams ommitting 0 while satisfying the rules.\n",
    "Such rules are:\n",
    "    No team can play away or home 4 weeks in a row.\n",
    "    No team can play itself.\n",
    "    Every team has to play eachother exactly twice, once home and once away\n"
   ]
  },
  {
   "cell_type": "code",
   "execution_count": null,
   "metadata": {},
   "outputs": [],
   "source": [
    "In start 1 we have a generator which work fundamentally by try a solution to a cell and then checking if it is correct.\n",
    "If there is no viable solution then we will enter a 0 which will be picked up by the fitness function in the violations.\n",
    "In start one then, when the cell has been decided the function will call getGame2 to find a solution for the cell.\n",
    "The available solutions are"
   ]
  },
  {
   "cell_type": "code",
   "execution_count": null,
   "metadata": {},
   "outputs": [],
   "source": [
    "@random_function\n",
    "def getGame2(x,y,S):\n",
    "\t# build available without 0 or the current team\n",
    "\tavailable = [i for i in range(-teams, teams + 1) if i != 0 and abs(i) != (x + 1)]\n",
    "\trand = 00; \n",
    "\ta = []; b = [];\n",
    "\tfor i in range(teams):\n",
    "\t\ta.append(S[i][y])\n",
    "\t#for i in range(weeks):\n",
    "\t#\tb.append(S[x][i])\n",
    "\t\n",
    "\tb = S[x]\n",
    "\t#print('A: ', available)\n",
    "\t#print(a)\n",
    "\t#print(b)\n",
    "\tav = available[:]\n",
    "\t\n",
    "\twhile len(av): \n",
    "\t\t\n",
    "\t\t\n",
    "\t\trand = random.choice(av)\n",
    "\t#\tprint('RAND   ', rand)\n",
    "\t\tz = [];\n",
    "\t\tif S[(abs(rand) - 1)][y] == None or S[(abs(rand) - 1)][y] == 0: # opposite isn't full\n",
    "\t\t\tif rand > 0:\n",
    "\t\t\t\topp = -(x+1)\t# create opposite value\n",
    "\t\t\telse:\n",
    "\t\t\t\topp = x + 1\n",
    "\t\t\t#for i in range(weeks):\n",
    "\t\t\t#\tz.append(S[abs(rand)-1][i]) # create opposite row\n",
    "\t\t\t\t\n",
    "\t\t\tif valid(a,b,S[abs(rand)-1],rand,opp): \t# check if rand and opp are valid\n",
    "\t\t\t\treturn rand\n",
    "\t\t\t\n",
    "\t\tav = [k for k in av if k != rand] # remove rand from the check\n",
    "\t\t\t\n",
    "\t\t#print(S)\n",
    "\t\n",
    "\treturn 00\n",
    "\t\n",
    "def valid(x,y,z,r,opp):\n",
    "\t#print(r)\n",
    "\t#print('z: ', z, 'x: ', x, 'y: ', y)\n",
    "\tif r in x: # already game scheduled in week against this team\n",
    "\t\t#print('x')\n",
    "\t\treturn False\n",
    "\telif r in y: # already game sceduled in team season schedule\n",
    "\t\t#print('y')\n",
    "\t\treturn False\n",
    "\telif opp in z: # opposing team already has a game scheduled in their season\n",
    "\t\t#print('z')\n",
    "\t\treturn False\n",
    "\telse:\n",
    "\t\treturn True\n",
    "\n",
    "\n",
    "\treturn False\n"
   ]
  }
 ],
 "metadata": {
  "kernelspec": {
   "display_name": "Python 3",
   "language": "python",
   "name": "python3"
  },
  "language_info": {
   "codemirror_mode": {
    "name": "ipython",
    "version": 3
   },
   "file_extension": ".py",
   "mimetype": "text/x-python",
   "name": "python",
   "nbconvert_exporter": "python",
   "pygments_lexer": "ipython3",
   "version": "3.7.2"
  }
 },
 "nbformat": 4,
 "nbformat_minor": 2
}
